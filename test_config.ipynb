{
 "cells": [
  {
   "cell_type": "code",
   "execution_count": 5,
   "metadata": {},
   "outputs": [],
   "source": [
    "import swe.shallowwater as sw\n",
    "import numpy as np"
   ]
  },
  {
   "cell_type": "code",
   "execution_count": 6,
   "metadata": {},
   "outputs": [
    {
     "name": "stdout",
     "output_type": "stream",
     "text": [
      "type(self.Karray)=<class 'numpy.ndarray'>\n",
      "type(self.Kcoeff)=<class 'numpy.ndarray'>\n",
      "type(K)=<class 'float'>\n"
     ]
    }
   ],
   "source": [
    "D = [0, 500]\n",
    "T = 500\n",
    "dt = 0.02\n",
    "N = 500\n",
    "bathy = None\n",
    "\n",
    "h0=lambda x: 20 * np.ones_like(x)\n",
    "u0=lambda x: np.zeros_like(x)\n",
    "K = 0.5\n",
    "\n",
    "bcL = lambda h, hu, t: sw.BCsin(h, hu, t, 20, [4], 2, 0)\n",
    "\n",
    "test_conf = sw.ShallowWaterSimulation(D=D,\n",
    "                                    T=T,\n",
    "dt=dt,\n",
    "h0=h0, \n",
    "u0=u0,\n",
    "K=K,\n",
    "bcL = bcL)\n",
    "test_conf.numflux.func_name = 'LF_flux'"
   ]
  },
  {
   "cell_type": "code",
   "execution_count": 7,
   "metadata": {},
   "outputs": [
    {
     "name": "stdout",
     "output_type": "stream",
     "text": [
      "\n",
      "--------------------------------------------\n",
      "     Shallow Water Simulation instance\n",
      "--------------------------------------------\n",
      "Domain:   D=[0, 500], dx=2.5, Nvolumes=200\n",
      "Stop Time T=500, dt=0.02, Ntimesteps=25001\n",
      "Periodic BC: No\n",
      "Numerical Flux: LF_flux\n"
     ]
    }
   ],
   "source": [
    "test_conf.summary()"
   ]
  },
  {
   "cell_type": "code",
   "execution_count": 8,
   "metadata": {},
   "outputs": [
    {
     "name": "stdout",
     "output_type": "stream",
     "text": [
      "\n",
      "--------------------------------------------\n",
      "     Shallow Water Simulation instance\n",
      "--------------------------------------------\n",
      "Domain:   D=[0, 500], dx=2.5, Nvolumes=200\n",
      "Stop Time T=500, dt=0.02, Ntimesteps=25001\n",
      "Periodic BC: No\n",
      "Numerical Flux: LF_flux\n"
     ]
    }
   ],
   "source": [
    "xr, h, u, t = test_conf.direct_simulation()"
   ]
  },
  {
   "cell_type": "code",
   "execution_count": null,
   "metadata": {},
   "outputs": [],
   "source": [
    "# def forward_model(K):\n",
    "#     simu = sw.ShallowWaterSimulation(...)\n",
    "#     xr, h, u, t =  simu.direct_simulation()\n",
    "#     return h"
   ]
  },
  {
   "cell_type": "code",
   "execution_count": null,
   "metadata": {},
   "outputs": [],
   "source": [
    "obs = forward_model(K_truth) + random_normal"
   ]
  }
 ],
 "metadata": {
  "interpreter": {
   "hash": "241910a7fbbd01c6f9018ea98aca3ad68afec9818de27bf495fab6c0f09627d2"
  },
  "kernelspec": {
   "display_name": "Python 3.8.10 ('.venvSWE1D': venv)",
   "language": "python",
   "name": "python3"
  },
  "language_info": {
   "codemirror_mode": {
    "name": "ipython",
    "version": 3
   },
   "file_extension": ".py",
   "mimetype": "text/x-python",
   "name": "python",
   "nbconvert_exporter": "python",
   "pygments_lexer": "ipython3",
   "version": "3.8.10"
  },
  "orig_nbformat": 4
 },
 "nbformat": 4,
 "nbformat_minor": 2
}
