{
 "cells": [
  {
   "cell_type": "code",
   "execution_count": 1,
   "metadata": {},
   "outputs": [],
   "source": [
    "import swe.shallowwater as sw\n",
    "import numpy as np\n",
    "import matplotlib.pyplot as plt\n",
    "from tqdm import tqdm\n"
   ]
  },
  {
   "cell_type": "code",
   "execution_count": 2,
   "metadata": {},
   "outputs": [],
   "source": [
    "D = [0, 50]\n",
    "T = 10\n",
    "dt = 0.05\n",
    "N = 50\n",
    "bathy = None\n",
    "\n",
    "h0 = lambda x: 20 * np.ones_like(x)\n",
    "u0 = lambda x: np.zeros_like(x)\n",
    "K = [0.5]\n",
    "\n",
    "bcL = lambda h, hu, t: sw.BCsin(h, hu, t, 20, [5], 8, 0)\n",
    "\n",
    "test_conf = sw.ShallowWaterSimulation(D=D, T=T, dt=dt, h0=h0, u0=u0, K=K, bcL=bcL, N=N)\n",
    "test_conf.numflux.func_name = \"LF_flux\"\n"
   ]
  },
  {
   "cell_type": "code",
   "execution_count": 3,
   "metadata": {},
   "outputs": [
    {
     "name": "stdout",
     "output_type": "stream",
     "text": [
      "1DSW Simulation:\n",
      "D=[0, 50], dx=1.0, Nvol=50\n",
      "T=10, dt=0.05, Ntimesteps=201\n",
      "\n",
      "Numerical Flux: LF_flux\n"
     ]
    }
   ],
   "source": [
    "test_conf.summary()\n"
   ]
  },
  {
   "cell_type": "code",
   "execution_count": 4,
   "metadata": {},
   "outputs": [
    {
     "name": "stdout",
     "output_type": "stream",
     "text": [
      "1DSW Simulation:\n",
      "D=[0, 50], dx=1.0, Nvol=50\n",
      "T=10, dt=0.05, Ntimesteps=201\n"
     ]
    }
   ],
   "source": [
    "print(test_conf)\n"
   ]
  },
  {
   "cell_type": "code",
   "execution_count": 5,
   "metadata": {},
   "outputs": [],
   "source": [
    "## Wrappers to call the solver, and tangent linear\n",
    "\n",
    "\n",
    "def forward_model(K):\n",
    "    simu = sw.ShallowWaterSimulation(D=D, T=T, dt=dt, h0=h0, u0=u0, K=K, bcL=bcL, N=N)\n",
    "    xr, h, u, t = simu.direct_simulation()\n",
    "    return h\n",
    "\n",
    "\n",
    "def tangent_linear(K, dK):\n",
    "    simu = sw.ShallowWaterSimulation(D=D, T=T, dt=dt, h0=h0, u0=u0, K=K, bcL=bcL, N=N)\n",
    "    return simu.tangent_linear(dK)\n",
    "\n",
    "\n",
    "def jacobian_matrix(K):\n",
    "    sim = sw.ShallowWaterSimulation(D=D, T=T, dt=dt, h0=h0, u0=u0, K=K, bcL=bcL, N=N)\n",
    "    return sim.jacobian_matrix(dim=len(K))\n"
   ]
  },
  {
   "cell_type": "code",
   "execution_count": 6,
   "metadata": {},
   "outputs": [],
   "source": [
    "# Test of the consistency of the TLM\n",
    "\n",
    "dim_K = 5\n",
    "alpha_list = [10.0 ** (-i) for i in np.arange(2, 9)]\n",
    "\n",
    "\n",
    "K0 = np.random.uniform(size=dim_K)\n",
    "dK0 = np.random.uniform(size=dim_K)\n",
    "h_t_flat = forward_model(K0).flatten()\n",
    "fd = []\n",
    "diff = []\n",
    "for alp in alpha_list:\n",
    "    h_t_alp = forward_model(K0 + alp * dK0).flatten()\n",
    "    diff.append((h_t_alp - h_t_flat) / alp)\n",
    "    fd.append(np.sum((h_t_alp - h_t_flat) ** 2))\n"
   ]
  },
  {
   "cell_type": "code",
   "execution_count": 7,
   "metadata": {},
   "outputs": [
    {
     "data": {
      "text/plain": [
       "Text(0.5, 1.0, 'Consistency TLM and finite difference\\nV shape expected')"
      ]
     },
     "execution_count": 7,
     "metadata": {},
     "output_type": "execute_result"
    },
    {
     "data": {
      "image/png": "[encoded data removed]",
      "text/plain": [
       "<Figure size 432x288 with 1 Axes>"
      ]
     },
     "metadata": {
      "needs_background": "light"
     },
     "output_type": "display_data"
    }
   ],
   "source": [
    "diff = np.array(diff).reshape(len(alpha_list), N, int(T / dt) + 1)\n",
    "h_d, q_d, dj = tangent_linear(K0, dK0)\n",
    "plt.plot(alpha_list, ((diff - h_d) ** 2).sum(1).sum(1))\n",
    "plt.yscale(\"log\")\n",
    "plt.xscale(\"log\")\n",
    "plt.title(f\"Consistency TLM and finite difference\\nV shape expected\")\n"
   ]
  },
  {
   "cell_type": "code",
   "execution_count": 8,
   "metadata": {},
   "outputs": [
    {
     "name": "stdout",
     "output_type": "stream",
     "text": [
      "||jacobian - finite_difference jacobian||\n",
      "0.01, 9.491299937969669e-11\n",
      "0.001, 9.499831670255681e-13\n",
      "0.0001, 9.500684665301154e-15\n",
      "1e-05, 9.49176091088001e-17\n",
      "1e-06, 1.3480791628496713e-17\n",
      "1e-07, 1.3057979180281668e-15\n",
      "1e-08, 1.2067402641470135e-13\n"
     ]
    }
   ],
   "source": [
    "# Check consistency between jacobian matrix and finite differences\n",
    "\n",
    "jac = jacobian_matrix(K0)\n",
    "\n",
    "\n",
    "h_t_flat = forward_model(K0).flatten()\n",
    "fd_jac = np.empty((len(h_t_flat), len(K0)))\n",
    "print(\"||jacobian - finite_difference jacobian||\")\n",
    "for alpha in alpha_list:\n",
    "    for i in range(len(K0)):\n",
    "        dK0 = np.zeros_like(K0)\n",
    "        dK0[i] = 1\n",
    "        fd_jac[:, i] = (forward_model(K0 + alpha * dK0).flatten() - h_t_flat) / alpha\n",
    "    print(f\"{alpha}, {((jac - fd_jac)**2).mean()}\")\n"
   ]
  },
  {
   "cell_type": "code",
   "execution_count": 9,
   "metadata": {},
   "outputs": [],
   "source": [
    "# Create a reference trajectory for the SSH\n",
    "K_truth = np.array([0.2])\n",
    "h_t = forward_model(K_truth)\n",
    "\n",
    "yobs = h_t + 0.5 * np.random.normal(size=h_t.shape)\n"
   ]
  },
  {
   "cell_type": "code",
   "execution_count": 10,
   "metadata": {},
   "outputs": [],
   "source": [
    "# Create observation matrix\n",
    "def observation_matrix_init(h_test, ind_to_observe=None):\n",
    "    if ind_to_observe is None:\n",
    "        ind_to_observe = range(int(h_test.shape[0]))\n",
    "    obs_mat = np.zeros((h_test.shape[0], h_test.shape[0]))\n",
    "    obs_mat[ind_to_observe, ind_to_observe] = 1\n",
    "    return obs_mat\n",
    "\n",
    "\n",
    "obs_mat = observation_matrix_init(yobs)\n"
   ]
  },
  {
   "cell_type": "code",
   "execution_count": 11,
   "metadata": {},
   "outputs": [],
   "source": [
    "## Wrapper to compute the cost and the gradient wrt to a reference\n",
    "def cost_gradient(K, reference):\n",
    "    simu = sw.ShallowWaterSimulation(D=D, T=T, dt=dt, h0=h0, u0=u0, K=K, bcL=bcL, N=N)\n",
    "    simu.set_reference(reference)\n",
    "    simu.cost_fun = lambda x, y: 0.5 * np.mean((x - y) ** 2)\n",
    "\n",
    "    simu.obs_mat = obs_mat\n",
    "    cost, grad = simu.compute_cost_and_gradient()\n",
    "\n",
    "    grad_sum_length = int(simu.xr.shape[0] / len(K))\n",
    "    grad_coeff = np.zeros(len(K))\n",
    "    for i in range(len(K)):\n",
    "        grad_coeff[i] = sum(\n",
    "            grad[i * grad_sum_length : (i * grad_sum_length + grad_sum_length)]\n",
    "        )\n",
    "    return cost, grad_coeff / np.prod(h_t.shape)\n"
   ]
  },
  {
   "cell_type": "code",
   "execution_count": 12,
   "metadata": {},
   "outputs": [
    {
     "name": "stderr",
     "output_type": "stream",
     "text": [
      "100%|██████████| 20/20 [00:38<00:00,  1.95s/it]\n"
     ]
    },
    {
     "data": {
      "image/png": "[encoded data removed]",
      "text/plain": [
       "<Figure size 432x288 with 2 Axes>"
      ]
     },
     "metadata": {
      "needs_background": "light"
     },
     "output_type": "display_data"
    }
   ],
   "source": [
    "c_li, g_li = [], []\n",
    "k_evals = np.linspace(0, 0.5, 20)\n",
    "for k in tqdm(k_evals):\n",
    "    c, g = cost_gradient([k], yobs)\n",
    "    c_li.append(c)\n",
    "    g_li.append(g)\n",
    "plt.subplot(1, 2, 1)\n",
    "plt.plot(k_evals, c_li)\n",
    "plt.axvline(K_truth)\n",
    "plt.title(\"Cost\")\n",
    "plt.subplot(1, 2, 2)\n",
    "plt.plot(k_evals, g_li)\n",
    "plt.axvline(K_truth)\n",
    "plt.title(\"Gradient\")\n",
    "plt.tight_layout()\n"
   ]
  },
  {
   "cell_type": "code",
   "execution_count": 13,
   "metadata": {},
   "outputs": [
    {
     "name": "stderr",
     "output_type": "stream",
     "text": [
      "100%|██████████| 100/100 [04:07<00:00,  2.47s/it]\n"
     ]
    }
   ],
   "source": [
    "n_grid = 10\n",
    "k_ = np.linspace(0, 0.5, n_grid)\n",
    "K_1, K_2 = np.meshgrid(k_, k_)\n",
    "K_grid = np.array((K_1, K_2)).T.reshape(-1, 2)\n",
    "cost_grid = np.empty(len(K_grid))\n",
    "grad_grid = np.empty((len(K_grid), 2))\n",
    "\n",
    "for i, k in enumerate(tqdm(K_grid)):\n",
    "    # print(i, k)\n",
    "    cost_grid[i], grad_grid[i, :] = cost_gradient(k, yobs)\n"
   ]
  },
  {
   "cell_type": "code",
   "execution_count": 14,
   "metadata": {},
   "outputs": [
    {
     "data": {
      "text/plain": [
       "Text(0.5, 1.0, 'Cost function')"
      ]
     },
     "execution_count": 14,
     "metadata": {},
     "output_type": "execute_result"
    },
    {
     "data": {
      "image/png": "[encoded data removed]",
      "text/plain": [
       "<Figure size 432x288 with 1 Axes>"
      ]
     },
     "metadata": {
      "needs_background": "light"
     },
     "output_type": "display_data"
    }
   ],
   "source": [
    "plt.contourf(K_1, K_2, cost_grid.reshape(n_grid, n_grid))\n",
    "plt.gca().set_aspect('equal')\n",
    "plt.xlabel(r\"$k_1$\")\n",
    "plt.ylabel(r\"$k_2$\")\n",
    "plt.title(f\"Cost function\")"
   ]
  },
  {
   "cell_type": "code",
   "execution_count": 15,
   "metadata": {},
   "outputs": [
    {
     "name": "stdout",
     "output_type": "stream",
     "text": [
      "0.12391009781132953 [0.0026632]\n",
      "0.001 0.1239127650483097 [-4.03472847e-06]\n",
      "1e-05 0.12391012444375563 [-4.03580804e-08]\n",
      "1e-07 0.12391009807764981 [-6.00993897e-10]\n",
      "1e-09 0.1239100978139927 [2.70158038e-08]\n"
     ]
    }
   ],
   "source": [
    "# Consistency check for the gradient and finite differences\n",
    "\n",
    "k_test_grad = np.random.uniform()\n",
    "c_test, g_test = cost_gradient([k_test_grad], yobs)\n",
    "c_eps = []\n",
    "print(c_test, g_test)\n",
    "for eps in [1e-3, 1e-5, 1e-7, 1e-9]:\n",
    "    simu = sw.ShallowWaterSimulation(\n",
    "        D=D, T=T, dt=dt, h0=h0, u0=u0, K=[k_test_grad + eps], bcL=bcL, N=N\n",
    "    )\n",
    "    simu.idx_observation = np.arange(len(simu.xr), dtype=\"int\")\n",
    "    simu.set_reference(yobs)\n",
    "    cost = simu.compute_cost()\n",
    "    print(eps, cost, g_test - (cost - c_test) / eps)\n",
    "    c_eps.append(cost)\n"
   ]
  }
 ],
 "metadata": {
  "interpreter": {
   "hash": "241910a7fbbd01c6f9018ea98aca3ad68afec9818de27bf495fab6c0f09627d2"
  },
  "kernelspec": {
   "display_name": "Python 3.8.10 ('.venvSWE1D': venv)",
   "language": "python",
   "name": "python3"
  },
  "language_info": {
   "codemirror_mode": {
    "name": "ipython",
    "version": 3
   },
   "file_extension": ".py",
   "mimetype": "text/x-python",
   "name": "python",
   "nbconvert_exporter": "python",
   "pygments_lexer": "ipython3",
   "version": "3.8.10"
  },
  "orig_nbformat": 4
 },
 "nbformat": 4,
 "nbformat_minor": 2
}
